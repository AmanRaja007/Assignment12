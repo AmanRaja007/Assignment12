{
 "cells": [
  {
   "cell_type": "markdown",
   "id": "842d0491-14c2-4cda-a3bd-1c998f3e2781",
   "metadata": {},
   "source": [
    "Question 1. What is multithreading in python? why is it used? Name the module used to handle threads in python"
   ]
  },
  {
   "cell_type": "markdown",
   "id": "81e4c199-4d6d-4343-8abc-842f963a2421",
   "metadata": {},
   "source": [
    "#solution:\n",
    "Multithreading is a threading technique in Python programming to run multiple threads concurrently by rapidly switching between threads with a CPU help (called context switching). Besides, it allows sharing of its data space with the main threads inside a process that share information and communication with other threads easier than individual processes. Multithreading aims to perform multiple tasks simultaneously, which increases performance, speed and improves the rendering of the application.\n",
    "\n",
    "Benefits of Multithreading in Python\n",
    "Following are the benefits to create a multithreaded application in Python, as follows:\n",
    "\n",
    "1.It ensures effective utilization of computer system resources.\n",
    "2.Multithreaded applications are more responsive.\n",
    "3.It shares resources and its state with sub-threads (child) which makes it more economical.\n",
    "4.It makes the multiprocessor architecture more effective due to similarity.\n",
    "5.It saves time by executing multiple threads at the same time.\n",
    "6.The system does not require too much memory to store multiple threads.\n",
    "\n",
    "\n",
    "threading module is used to handle threads in python"
   ]
  },
  {
   "cell_type": "markdown",
   "id": "e6b52f48-f6e1-4929-beb8-53bc8370c9f9",
   "metadata": {},
   "source": [
    "Question 2.\n",
    "Why is threading module is used ? Write the use of the following function:\n",
    "    1.activeCount()\n",
    "    2.currentthread()\n",
    "    3.enumerate()"
   ]
  },
  {
   "cell_type": "markdown",
   "id": "e35d14fb-0794-45f6-8c1b-c95f89c547db",
   "metadata": {},
   "source": [
    "#solution:\n",
    "Threading module is used to handle the thread in python.\n",
    "\n",
    "currentThread() − Returns the number of thread objects in the caller's thread control. \n",
    "\n",
    "enumerate() − Returns a list of all thread objects that are currently active.\n",
    "\n",
    "activeCount() - Returns the number of thread objects that are active."
   ]
  },
  {
   "cell_type": "markdown",
   "id": "11d03ee8-58d2-4b61-b0b6-274e29f320e0",
   "metadata": {},
   "source": [
    "Question 3.\n",
    "Explain the following function :\n",
    "    \n",
    "    1.run()\n",
    "    2.start()\n",
    "    3.join()\n",
    "    4.isAlive()"
   ]
  },
  {
   "cell_type": "markdown",
   "id": "45898cd6-4cf0-4326-89b9-e3d6cebc993e",
   "metadata": {},
   "source": [
    "#solution:- \n",
    "\n",
    "run() − The run() method is the entry point for a thread.\n",
    "\n",
    "start() − The start() method starts a thread by calling the run method.\n",
    "\n",
    "join() − The join() waits for threads to terminate.\n",
    "\n",
    "isAlive() − The isAlive() method checks whether a thread is still executing."
   ]
  },
  {
   "cell_type": "markdown",
   "id": "3b325dc9-11f3-4d52-a3a6-f702d3e69e80",
   "metadata": {},
   "source": [
    "Question 4. Write a python program to create two threads. Thread one must print the list of squares and thread two must print the list of cubes"
   ]
  },
  {
   "cell_type": "code",
   "execution_count": 8,
   "id": "a7bece40-91ee-4f33-826f-556a44ddcd02",
   "metadata": {},
   "outputs": [],
   "source": [
    "#solution: \n",
    "import threading \n",
    "def sq(num):\n",
    "    n = num * num\n",
    "    print(n)\n",
    "def cube(num):\n",
    "    n = num * num * num\n",
    "    print(n)\n",
    "    \n",
    "t1 = threading.Thread(target = sq ,args = (10,))\n",
    "t2 = threading.Thread(target = cube , args = (10,))"
   ]
  },
  {
   "cell_type": "code",
   "execution_count": 9,
   "id": "c704678d-afd8-4bb2-a077-ce1cfa40e6c7",
   "metadata": {},
   "outputs": [
    {
     "name": "stdout",
     "output_type": "stream",
     "text": [
      "100\n",
      "1000\n"
     ]
    }
   ],
   "source": [
    "t1.start()\n",
    "t2.start()\n",
    "\n",
    "\n",
    "t1.join()\n",
    "t2.join()"
   ]
  },
  {
   "cell_type": "markdown",
   "id": "6a0e8c5d-e28c-43f8-9369-939df1edb056",
   "metadata": {},
   "source": [
    "Question 5. State advantages and disadvantages of multithreading?"
   ]
  },
  {
   "cell_type": "markdown",
   "id": "45f84dc2-4e34-481f-8559-086ba0224919",
   "metadata": {},
   "source": [
    "#Solution\n",
    "Advantages of multithreading :- \n",
    "1.Improved performance and concurrency:- For certain applications, performance and concurrency can be improved by using multithreading and multicontexting together. In other applications, performance can be unaffected or even degraded by using multithreading and multicontexting together. How performance is affected depends on your application.\n",
    "\n",
    "\n",
    "2.Simplified coding of remote procedure calls and conversations:-In some applications it is easier to code different remote procedure calls and conversations in separate threads than to manage them from the same thread.\n",
    "\n",
    "\n",
    "3.Simultaneous access to multiple applications:- Your BEA Tuxedo clients can be connected to more than one application at a time.\n",
    "\n",
    "\n",
    "4.Reduced number of required servers:- Because one server can dispatch multiple service threads, the number of servers to start for your application is reduced. This capability for multiple dispatched threads is especially useful for conversational servers, which otherwise must be dedicated to one client for the entire duration of a conversation.\n",
    "\n",
    "\n",
    "Disadvantges of multithreading :- \n",
    "\n",
    "Disadvantages of a Multithreaded/Multicontexted Application\n",
    "\n",
    "1.Difficulty of writing code Multithreaded and multicontexted applications are not easy to \n",
    "write. Only experienced programmers should undertake coding for these types of applications.\n",
    "\n",
    "\n",
    "2.Difficulty of debugging :- It is much harder to replicate an error in a multithreaded or\n",
    "multicontexted application than it is to do so in a single-threaded, single-contexted \n",
    "application. As a result, it is more difficult, in the former case, to identify and verify \n",
    "root causes when errors occur.\n",
    "\n",
    "\n",
    "3.Difficulty of managing concurrency:- The task of managing concurrency among threads is \n",
    "difficult and has the potential to introduce new problems into an application.\n",
    "\n",
    "\n",
    "4.Difficulty of testing:- Testing a multithreaded application is more difficult than testing\n",
    "a single-threaded application because defects are often timing-related and more difficult \n",
    "to reproduce.\n",
    "\n",
    "\n",
    "5.Difficulty of porting existing code:- Existing code often requires significant \n",
    "re-architecting to take advantage of multithreading and multicontexting. Programmers need \n",
    "to:\n",
    "(i)Remove static variables\n",
    "(ii)Replace any function calls that are not thread-safe\n",
    "(iii)Replace any other code that is not thread-safe\n",
    "(iv)Because the completed port must be tested and re-tested, the work required to port a\n",
    "multithreaded and/or multicontexted application is substantial."
   ]
  },
  {
   "cell_type": "markdown",
   "id": "f6781818-f163-410d-8452-4dde02b84836",
   "metadata": {},
   "source": [
    "Question 6. Explain deadlocks and race conditions."
   ]
  },
  {
   "cell_type": "markdown",
   "id": "43add6c3-72ad-47bc-bb87-d4ca536dc10b",
   "metadata": {},
   "source": [
    "#Solution\n",
    "A deadlock is when two (or more) threads are blocking each other. Usually this has something to do with threads trying to acquire shared resources. For example if threads T1 and T2 need to acquire both resources A and B in order to do their work. If T1 acquires resource A, then T2 acquires resource B, T1 could then be waiting for resource B while T2 was waiting for resource A. In this case, both threads will wait indefinitely for the resource held by the other thread. These threads are said to be deadlocked.\n",
    "\n",
    "Race conditions occur when two threads interact in a negatve (buggy) way depending on the exact order that their different instructions are executed. If one thread sets a global variable, for example, then a second thread reads and modifies that global variable, and the first thread reads the variable, the first thread may experience a bug because the variable has changed unexpectedly."
   ]
  }
 ],
 "metadata": {
  "kernelspec": {
   "display_name": "Python 3 (ipykernel)",
   "language": "python",
   "name": "python3"
  },
  "language_info": {
   "codemirror_mode": {
    "name": "ipython",
    "version": 3
   },
   "file_extension": ".py",
   "mimetype": "text/x-python",
   "name": "python",
   "nbconvert_exporter": "python",
   "pygments_lexer": "ipython3",
   "version": "3.10.8"
  }
 },
 "nbformat": 4,
 "nbformat_minor": 5
}
